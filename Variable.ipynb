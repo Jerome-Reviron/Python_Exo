{
 "cells": [
  {
   "cell_type": "markdown",
   "metadata": {},
   "source": [
    "# Variable"
   ]
  },
  {
   "cell_type": "code",
   "execution_count": 2,
   "metadata": {},
   "outputs": [],
   "source": [
    "day = 1"
   ]
  },
  {
   "cell_type": "markdown",
   "metadata": {},
   "source": [
    "Create a variable named day, which contained the numeric value 1."
   ]
  },
  {
   "cell_type": "code",
   "execution_count": 3,
   "metadata": {},
   "outputs": [],
   "source": [
    "month = \"January\""
   ]
  },
  {
   "cell_type": "markdown",
   "metadata": {},
   "source": [
    "Create a variable named month, which contained the string value January."
   ]
  },
  {
   "cell_type": "code",
   "execution_count": 4,
   "metadata": {},
   "outputs": [],
   "source": [
    "year = 2000"
   ]
  },
  {
   "cell_type": "markdown",
   "metadata": {},
   "source": [
    "Create a variable named year, which contained the numeric value 2000."
   ]
  },
  {
   "cell_type": "code",
   "execution_count": 5,
   "metadata": {},
   "outputs": [],
   "source": [
    "elapsed_day = 1/365"
   ]
  },
  {
   "cell_type": "markdown",
   "metadata": {},
   "source": [
    "Create a variable named elapsed_day, which contained the numeric value 1/365."
   ]
  },
  {
   "cell_type": "code",
   "execution_count": 1,
   "metadata": {},
   "outputs": [
    {
     "name": "stdout",
     "output_type": "stream",
     "text": [
      "Type of 'day': <class 'int'>\n",
      "Type of 'month': <class 'str'>\n",
      "Type of 'year': <class 'int'>\n",
      "Type of 'elapsed_day': <class 'float'>\n"
     ]
    }
   ],
   "source": [
    "day = 1\n",
    "month = \"January\"\n",
    "year = 2000\n",
    "elapsed_day = 1/365\n",
    "\n",
    "print(\"Type of 'day':\", type(day))\n",
    "print(\"Type of 'month':\", type(month))\n",
    "print(\"Type of 'year':\", type(year))\n",
    "print(\"Type of 'elapsed_day':\", type(elapsed_day))\n"
   ]
  },
  {
   "cell_type": "markdown",
   "metadata": {},
   "source": [
    "Print out the type of the created variables"
   ]
  },
  {
   "cell_type": "code",
   "execution_count": 18,
   "metadata": {},
   "outputs": [
    {
     "name": "stdout",
     "output_type": "stream",
     "text": [
      "1 January 2000. Elapsed days: 0.003 percent\n",
      "1 January 2000. Elapsed days: 0.003 percent\n"
     ]
    }
   ],
   "source": [
    "day = 1\n",
    "month = \"January\"\n",
    "year = 2000\n",
    "elapsed_day = 1/365\n",
    "\n",
    "# Concatenate variables and create the sentence\n",
    "date = f\"{day} {month} {year}. Elapsed days: { round(elapsed_day, 3)} percent\"\n",
    "happy_date = f\"{day} {month} {year}. Elapsed days: {elapsed_day:.3f} percent\"\n",
    "\n",
    "# Print the sentence\n",
    "print(date)\n",
    "print(happy_date)"
   ]
  },
  {
   "cell_type": "markdown",
   "metadata": {},
   "source": [
    "Concatenate the created variable and print out a sentence like : \"1 January 2000. Elapsed days : 0.003 percent\""
   ]
  }
 ],
 "metadata": {
  "kernelspec": {
   "display_name": "Python 3.8.10 64-bit (windows store)",
   "language": "python",
   "name": "python3"
  },
  "language_info": {
   "codemirror_mode": {
    "name": "ipython",
    "version": 3
   },
   "file_extension": ".py",
   "mimetype": "text/x-python",
   "name": "python",
   "nbconvert_exporter": "python",
   "pygments_lexer": "ipython3",
   "version": "3.12.1"
  },
  "orig_nbformat": 4,
  "vscode": {
   "interpreter": {
    "hash": "825c94aeb3011909476e5128882419f0b73939d2857b9ad1548e06fb43618312"
   }
  }
 },
 "nbformat": 4,
 "nbformat_minor": 2
}
