{
 "cells": [
  {
   "cell_type": "markdown",
   "metadata": {},
   "source": [
    "# Conditional Bloc"
   ]
  },
  {
   "cell_type": "markdown",
   "metadata": {},
   "source": [
    "Create a list of tuple which contains numbers from 1 to 31 and the string 'January'.\n",
    "\n",
    "Expected result : [(1, 'January'), (2, 'January').. (31, 'January')]"
   ]
  },
  {
   "cell_type": "markdown",
   "metadata": {},
   "source": [
    "##### Créez une liste de tuples contenant des nombres de 1 à 31 et la chaîne de caractères 'January'."
   ]
  },
  {
   "cell_type": "code",
   "execution_count": 5,
   "metadata": {},
   "outputs": [
    {
     "name": "stdout",
     "output_type": "stream",
     "text": [
      "[(1, 'January'), (2, 'January'), (3, 'January'), (4, 'January'), (5, 'January'), (6, 'January'), (7, 'January'), (8, 'January'), (9, 'January'), (10, 'January'), (11, 'January'), (12, 'January'), (13, 'January'), (14, 'January'), (15, 'January'), (16, 'January'), (17, 'January'), (18, 'January'), (19, 'January'), (20, 'January'), (21, 'January'), (22, 'January'), (23, 'January'), (24, 'January'), (25, 'January'), (26, 'January'), (27, 'January'), (28, 'January'), (29, 'January'), (30, 'January'), (31, 'January')]\n"
     ]
    }
   ],
   "source": [
    "# Créer une liste de tuples pour 'January'\n",
    "liste_janvier = [(nombre, 'January') for nombre in range(1, 32)]\n",
    "\n",
    "# Afficher la liste résultante\n",
    "print(liste_janvier)\n",
    "\n"
   ]
  },
  {
   "cell_type": "markdown",
   "metadata": {},
   "source": [
    "Create a list of tuple which contains numbers from 1 to 31 and the string 'February'.\n",
    "\n",
    "Expected result : [(1, 'February'), (2, 'February').. (31, 'February')]"
   ]
  },
  {
   "cell_type": "markdown",
   "metadata": {},
   "source": [
    "##### Créez une liste de tuples contenant des nombres de 1 à 31 et la chaîne de caractères 'February'."
   ]
  },
  {
   "cell_type": "code",
   "execution_count": 2,
   "metadata": {},
   "outputs": [
    {
     "name": "stdout",
     "output_type": "stream",
     "text": [
      "[(1, 'February'), (2, 'February'), (3, 'February'), (4, 'February'), (5, 'February'), (6, 'February'), (7, 'February'), (8, 'February'), (9, 'February'), (10, 'February'), (11, 'February'), (12, 'February'), (13, 'February'), (14, 'February'), (15, 'February'), (16, 'February'), (17, 'February'), (18, 'February'), (19, 'February'), (20, 'February'), (21, 'February'), (22, 'February'), (23, 'February'), (24, 'February'), (25, 'February'), (26, 'February'), (27, 'February'), (28, 'February'), (29, 'February'), (30, 'February'), (31, 'February')]\n"
     ]
    }
   ],
   "source": [
    "# Initialiser une liste de tuples en utilisant une liste de compréhension\n",
    "liste_de_tuples = [(nombre, 'February') for nombre in range(1, 32) if nombre <= 31]\n",
    "\n",
    "# Afficher la liste résultante\n",
    "print(liste_de_tuples)\n"
   ]
  },
  {
   "cell_type": "markdown",
   "metadata": {},
   "source": [
    "Concatenate the two previous list into one.\n",
    "\n",
    "Expected result : [(1, 'January'), (2, 'January').. (31, 'February')]"
   ]
  },
  {
   "cell_type": "code",
   "execution_count": 12,
   "metadata": {},
   "outputs": [
    {
     "name": "stdout",
     "output_type": "stream",
     "text": [
      "[(1, 'January'), (2, 'January'), (3, 'January'), (4, 'January'), (5, 'January'), (6, 'January'), (7, 'January'), (8, 'January'), (9, 'January'), (10, 'January'), (11, 'January'), (12, 'January'), (13, 'January'), (14, 'January'), (15, 'January'), (16, 'January'), (17, 'January'), (18, 'January'), (19, 'January'), (20, 'January'), (21, 'January'), (22, 'January'), (23, 'January'), (24, 'January'), (25, 'January'), (26, 'January'), (27, 'January'), (28, 'January'), (29, 'January'), (30, 'January'), (31, 'January'), (1, 'February'), (2, 'February'), (3, 'February'), (4, 'February'), (5, 'February'), (6, 'February'), (7, 'February'), (8, 'February'), (9, 'February'), (10, 'February'), (11, 'February'), (12, 'February'), (13, 'February'), (14, 'February'), (15, 'February'), (16, 'February'), (17, 'February'), (18, 'February'), (19, 'February'), (20, 'February'), (21, 'February'), (22, 'February'), (23, 'February'), (24, 'February'), (25, 'February'), (26, 'February'), (27, 'February'), (28, 'February'), (29, 'February'), (30, 'February'), (31, 'February')]\n"
     ]
    }
   ],
   "source": [
    "# Créer une liste de tuples pour 'January'\n",
    "liste_janvier = [(nombre, 'January') for nombre in range(1, 32) if nombre <= 31]\n",
    "\n",
    "# Créer une liste de tuples pour 'February'\n",
    "liste_fevrier = [(nombre, 'February') for nombre in range(1, 32) if nombre <= 31]\n",
    "\n",
    "# Concaténer les deux listes\n",
    "liste_concatenee = liste_janvier + liste_fevrier\n",
    "\n",
    "# Afficher la liste résultante\n",
    "print(liste_concatenee)\n"
   ]
  },
  {
   "cell_type": "markdown",
   "metadata": {},
   "source": [
    "Check if the value (1, 'March') is in the concatenate list.\n",
    "\n",
    "If yes, then print \"The 1 March exist\". Otherwise, print \"The 1 March does not exist\" "
   ]
  },
  {
   "cell_type": "markdown",
   "metadata": {},
   "source": [
    "##### Vérifiez si la valeur (1, 'March') est présente dans la liste concaténée.\n",
    "\n",
    "##### Si oui, affichez \"Le 1er mars existe\". Sinon, affichez \"Le 1er mars n'existe pas\"."
   ]
  },
  {
   "cell_type": "code",
   "execution_count": 10,
   "metadata": {},
   "outputs": [
    {
     "name": "stdout",
     "output_type": "stream",
     "text": [
      "[(1, 'January'), (2, 'January'), (3, 'January'), (4, 'January'), (5, 'January'), (6, 'January'), (7, 'January'), (8, 'January'), (9, 'January'), (10, 'January'), (11, 'January'), (12, 'January'), (13, 'January'), (14, 'January'), (15, 'January'), (16, 'January'), (17, 'January'), (18, 'January'), (19, 'January'), (20, 'January'), (21, 'January'), (22, 'January'), (23, 'January'), (24, 'January'), (25, 'January'), (26, 'January'), (27, 'January'), (28, 'January'), (29, 'January'), (30, 'January'), (31, 'January'), (1, 'February'), (2, 'February'), (3, 'February'), (4, 'February'), (5, 'February'), (6, 'February'), (7, 'February'), (8, 'February'), (9, 'February'), (10, 'February'), (11, 'February'), (12, 'February'), (13, 'February'), (14, 'February'), (15, 'February'), (16, 'February'), (17, 'February'), (18, 'February'), (19, 'February'), (20, 'February'), (21, 'February'), (22, 'February'), (23, 'February'), (24, 'February'), (25, 'February'), (26, 'February'), (27, 'February'), (28, 'February'), (29, 'February'), (30, 'February'), (31, 'February')]\n",
      "Le 1er mars n'existe pas.\n"
     ]
    }
   ],
   "source": [
    "# Afficher la liste résultante\n",
    "print(liste_concatenee)\n",
    "\n",
    "# Vérifier si la valeur (1, 'March') est présente dans la liste concaténée\n",
    "if (1, 'March') in liste_concatenee:\n",
    "    print(\"Le 1er mars existe.\")\n",
    "else:\n",
    "    print(\"Le 1er mars n'existe pas.\")\n"
   ]
  },
  {
   "cell_type": "markdown",
   "metadata": {},
   "source": [
    "In the concatenated list, print every tuple which are equal or below 28 and contains the string 'February'."
   ]
  },
  {
   "cell_type": "markdown",
   "metadata": {},
   "source": [
    "##### Dans la liste concaténée, imprimez chaque tuple qui est égal ou inférieur à 28 et qui contient la chaîne 'February'."
   ]
  },
  {
   "cell_type": "code",
   "execution_count": null,
   "metadata": {},
   "outputs": [],
   "source": [
    "# Filtrer les tuples de la liste concaténée qui satisfont les conditions\n",
    "resultats_filtrés = [tup for tup in liste_concatenee if tup[0] <= 28 and (tup[1] == 'January' or tup[1] == 'February')]\n",
    "\n",
    "# Afficher les résultats filtrés\n",
    "for resultat in resultats_filtrés:\n",
    "    print(resultat)\n"
   ]
  },
  {
   "cell_type": "markdown",
   "metadata": {},
   "source": [
    "In the concatenated list, delete every date which are above 28."
   ]
  },
  {
   "cell_type": "markdown",
   "metadata": {},
   "source": [
    "##### Dans la liste concaténée, supprimez chaque date qui est supérieure à 28."
   ]
  },
  {
   "cell_type": "code",
   "execution_count": 16,
   "metadata": {},
   "outputs": [
    {
     "name": "stdout",
     "output_type": "stream",
     "text": [
      "[(1, 'January'), (2, 'January'), (3, 'January'), (4, 'January'), (5, 'January'), (6, 'January'), (7, 'January'), (8, 'January'), (9, 'January'), (10, 'January'), (11, 'January'), (12, 'January'), (13, 'January'), (14, 'January'), (15, 'January'), (16, 'January'), (17, 'January'), (18, 'January'), (19, 'January'), (20, 'January'), (21, 'January'), (22, 'January'), (23, 'January'), (24, 'January'), (25, 'January'), (26, 'January'), (27, 'January'), (28, 'January'), (1, 'February'), (2, 'February'), (3, 'February'), (4, 'February'), (5, 'February'), (6, 'February'), (7, 'February'), (8, 'February'), (9, 'February'), (10, 'February'), (11, 'February'), (12, 'February'), (13, 'February'), (14, 'February'), (15, 'February'), (16, 'February'), (17, 'February'), (18, 'February'), (19, 'February'), (20, 'February'), (21, 'February'), (22, 'February'), (23, 'February'), (24, 'February'), (25, 'February'), (26, 'February'), (27, 'February'), (28, 'February')]\n"
     ]
    }
   ],
   "source": [
    "# Filtrer les tuples de la liste concaténée qui satisfont la condition\n",
    "liste_filtrée = [tup for tup in liste_concatenee if tup[0] <= 28]\n",
    "\n",
    "# Afficher la liste résultante\n",
    "print(liste_filtrée)\n"
   ]
  }
 ],
 "metadata": {
  "kernelspec": {
   "display_name": "Python 3.8.10 64-bit (windows store)",
   "language": "python",
   "name": "python3"
  },
  "language_info": {
   "codemirror_mode": {
    "name": "ipython",
    "version": 3
   },
   "file_extension": ".py",
   "mimetype": "text/x-python",
   "name": "python",
   "nbconvert_exporter": "python",
   "pygments_lexer": "ipython3",
   "version": "3.12.1"
  },
  "vscode": {
   "interpreter": {
    "hash": "825c94aeb3011909476e5128882419f0b73939d2857b9ad1548e06fb43618312"
   }
  }
 },
 "nbformat": 4,
 "nbformat_minor": 4
}
