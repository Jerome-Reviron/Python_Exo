{
 "cells": [
  {
   "cell_type": "markdown",
   "metadata": {},
   "source": [
    "# Loop"
   ]
  },
  {
   "cell_type": "markdown",
   "metadata": {},
   "source": [
    "##### By using a while loop, create a list of numbers from 1 to 31 included."
   ]
  },
  {
   "cell_type": "markdown",
   "metadata": {},
   "source": [
    "##### Crée une liste de nombres de 1 à 31 à l'aide d'une boucle \"while\"."
   ]
  },
  {
   "cell_type": "code",
   "execution_count": 1,
   "metadata": {},
   "outputs": [
    {
     "name": "stdout",
     "output_type": "stream",
     "text": [
      "[1, 2, 3, 4, 5, 6, 7, 8, 9, 10, 11, 12, 13, 14, 15, 16, 17, 18, 19, 20, 21, 22, 23, 24, 25, 26, 27, 28, 29, 30, 31]\n"
     ]
    }
   ],
   "source": [
    "# Initialiser une liste vide pour stocker les nombres\n",
    "liste_de_nombres = []\n",
    "\n",
    "# Initialiser une variable pour représenter le nombre actuel\n",
    "nombre_actuel = 1\n",
    "\n",
    "# Utiliser une boucle while pour ajouter les nombres à la liste\n",
    "while nombre_actuel <= 31:\n",
    "    liste_de_nombres.append(nombre_actuel)\n",
    "    nombre_actuel += 1\n",
    "\n",
    "# Afficher la liste résultante\n",
    "print(liste_de_nombres)\n"
   ]
  },
  {
   "cell_type": "markdown",
   "metadata": {},
   "source": [
    "### By using a for loop, create a list of tuple, containing a number and a month.\n",
    "##### All months can have 31 days.\n",
    "\n",
    "##### Expected result : [(1, 'January'), (2, 'January'), (31, 'Décembre')]"
   ]
  },
  {
   "cell_type": "markdown",
   "metadata": {},
   "source": [
    "##### Créer une liste de tuples contenant un nombre et un mois, où tous les mois ont 31 jours."
   ]
  },
  {
   "cell_type": "code",
   "execution_count": 3,
   "metadata": {},
   "outputs": [
    {
     "name": "stdout",
     "output_type": "stream",
     "text": [
      "[(1, 'January'), (2, 'January'), (3, 'January'), (4, 'January'), (5, 'January'), (6, 'January'), (7, 'January'), (8, 'January'), (9, 'January'), (10, 'January'), (11, 'January'), (12, 'January'), (13, 'January'), (14, 'January'), (15, 'January'), (16, 'January'), (17, 'January'), (18, 'January'), (19, 'January'), (20, 'January'), (21, 'January'), (22, 'January'), (23, 'January'), (24, 'January'), (25, 'January'), (26, 'January'), (27, 'January'), (28, 'January'), (29, 'January'), (30, 'January'), (31, 'January'), (1, 'March'), (2, 'March'), (3, 'March'), (4, 'March'), (5, 'March'), (6, 'March'), (7, 'March'), (8, 'March'), (9, 'March'), (10, 'March'), (11, 'March'), (12, 'March'), (13, 'March'), (14, 'March'), (15, 'March'), (16, 'March'), (17, 'March'), (18, 'March'), (19, 'March'), (20, 'March'), (21, 'March'), (22, 'March'), (23, 'March'), (24, 'March'), (25, 'March'), (26, 'March'), (27, 'March'), (28, 'March'), (29, 'March'), (30, 'March'), (31, 'March'), (1, 'May'), (2, 'May'), (3, 'May'), (4, 'May'), (5, 'May'), (6, 'May'), (7, 'May'), (8, 'May'), (9, 'May'), (10, 'May'), (11, 'May'), (12, 'May'), (13, 'May'), (14, 'May'), (15, 'May'), (16, 'May'), (17, 'May'), (18, 'May'), (19, 'May'), (20, 'May'), (21, 'May'), (22, 'May'), (23, 'May'), (24, 'May'), (25, 'May'), (26, 'May'), (27, 'May'), (28, 'May'), (29, 'May'), (30, 'May'), (31, 'May'), (1, 'July'), (2, 'July'), (3, 'July'), (4, 'July'), (5, 'July'), (6, 'July'), (7, 'July'), (8, 'July'), (9, 'July'), (10, 'July'), (11, 'July'), (12, 'July'), (13, 'July'), (14, 'July'), (15, 'July'), (16, 'July'), (17, 'July'), (18, 'July'), (19, 'July'), (20, 'July'), (21, 'July'), (22, 'July'), (23, 'July'), (24, 'July'), (25, 'July'), (26, 'July'), (27, 'July'), (28, 'July'), (29, 'July'), (30, 'July'), (31, 'July'), (1, 'August'), (2, 'August'), (3, 'August'), (4, 'August'), (5, 'August'), (6, 'August'), (7, 'August'), (8, 'August'), (9, 'August'), (10, 'August'), (11, 'August'), (12, 'August'), (13, 'August'), (14, 'August'), (15, 'August'), (16, 'August'), (17, 'August'), (18, 'August'), (19, 'August'), (20, 'August'), (21, 'August'), (22, 'August'), (23, 'August'), (24, 'August'), (25, 'August'), (26, 'August'), (27, 'August'), (28, 'August'), (29, 'August'), (30, 'August'), (31, 'August'), (1, 'October'), (2, 'October'), (3, 'October'), (4, 'October'), (5, 'October'), (6, 'October'), (7, 'October'), (8, 'October'), (9, 'October'), (10, 'October'), (11, 'October'), (12, 'October'), (13, 'October'), (14, 'October'), (15, 'October'), (16, 'October'), (17, 'October'), (18, 'October'), (19, 'October'), (20, 'October'), (21, 'October'), (22, 'October'), (23, 'October'), (24, 'October'), (25, 'October'), (26, 'October'), (27, 'October'), (28, 'October'), (29, 'October'), (30, 'October'), (31, 'October'), (1, 'December'), (2, 'December'), (3, 'December'), (4, 'December'), (5, 'December'), (6, 'December'), (7, 'December'), (8, 'December'), (9, 'December'), (10, 'December'), (11, 'December'), (12, 'December'), (13, 'December'), (14, 'December'), (15, 'December'), (16, 'December'), (17, 'December'), (18, 'December'), (19, 'December'), (20, 'December'), (21, 'December'), (22, 'December'), (23, 'December'), (24, 'December'), (25, 'December'), (26, 'December'), (27, 'December'), (28, 'December'), (29, 'December'), (30, 'December'), (31, 'December')]\n"
     ]
    }
   ],
   "source": [
    "# Initialiser une liste vide pour stocker les tuples\n",
    "liste_de_tuples = []\n",
    "\n",
    "# Liste des mois avec 31 jours\n",
    "mois_avec_31_jours = ['January', 'March', 'May', 'July', 'August', 'October', 'December']\n",
    "\n",
    "# Utiliser une boucle \"for\" pour créer la liste\n",
    "for mois in mois_avec_31_jours:\n",
    "    for nombre in range(1, 32):\n",
    "        # Ajouter le tuple (nombre, mois) à la liste pour chaque nombre de 1 à 31\n",
    "        liste_de_tuples.append((nombre, mois))\n",
    "\n",
    "# Afficher la liste résultante\n",
    "print(liste_de_tuples)\n"
   ]
  },
  {
   "cell_type": "markdown",
   "metadata": {},
   "source": [
    "##### Code optimisé"
   ]
  },
  {
   "cell_type": "code",
   "execution_count": 4,
   "metadata": {},
   "outputs": [
    {
     "name": "stdout",
     "output_type": "stream",
     "text": [
      "[(1, 'January'), (1, 'March'), (1, 'May'), (1, 'July'), (1, 'August'), (1, 'October'), (1, 'December'), (2, 'January'), (2, 'March'), (2, 'May'), (2, 'July'), (2, 'August'), (2, 'October'), (2, 'December'), (3, 'January'), (3, 'March'), (3, 'May'), (3, 'July'), (3, 'August'), (3, 'October'), (3, 'December'), (4, 'January'), (4, 'March'), (4, 'May'), (4, 'July'), (4, 'August'), (4, 'October'), (4, 'December'), (5, 'January'), (5, 'March'), (5, 'May'), (5, 'July'), (5, 'August'), (5, 'October'), (5, 'December'), (6, 'January'), (6, 'March'), (6, 'May'), (6, 'July'), (6, 'August'), (6, 'October'), (6, 'December'), (7, 'January'), (7, 'March'), (7, 'May'), (7, 'July'), (7, 'August'), (7, 'October'), (7, 'December'), (8, 'January'), (8, 'March'), (8, 'May'), (8, 'July'), (8, 'August'), (8, 'October'), (8, 'December'), (9, 'January'), (9, 'March'), (9, 'May'), (9, 'July'), (9, 'August'), (9, 'October'), (9, 'December'), (10, 'January'), (10, 'March'), (10, 'May'), (10, 'July'), (10, 'August'), (10, 'October'), (10, 'December'), (11, 'January'), (11, 'March'), (11, 'May'), (11, 'July'), (11, 'August'), (11, 'October'), (11, 'December'), (12, 'January'), (12, 'March'), (12, 'May'), (12, 'July'), (12, 'August'), (12, 'October'), (12, 'December'), (13, 'January'), (13, 'March'), (13, 'May'), (13, 'July'), (13, 'August'), (13, 'October'), (13, 'December'), (14, 'January'), (14, 'March'), (14, 'May'), (14, 'July'), (14, 'August'), (14, 'October'), (14, 'December'), (15, 'January'), (15, 'March'), (15, 'May'), (15, 'July'), (15, 'August'), (15, 'October'), (15, 'December'), (16, 'January'), (16, 'March'), (16, 'May'), (16, 'July'), (16, 'August'), (16, 'October'), (16, 'December'), (17, 'January'), (17, 'March'), (17, 'May'), (17, 'July'), (17, 'August'), (17, 'October'), (17, 'December'), (18, 'January'), (18, 'March'), (18, 'May'), (18, 'July'), (18, 'August'), (18, 'October'), (18, 'December'), (19, 'January'), (19, 'March'), (19, 'May'), (19, 'July'), (19, 'August'), (19, 'October'), (19, 'December'), (20, 'January'), (20, 'March'), (20, 'May'), (20, 'July'), (20, 'August'), (20, 'October'), (20, 'December'), (21, 'January'), (21, 'March'), (21, 'May'), (21, 'July'), (21, 'August'), (21, 'October'), (21, 'December'), (22, 'January'), (22, 'March'), (22, 'May'), (22, 'July'), (22, 'August'), (22, 'October'), (22, 'December'), (23, 'January'), (23, 'March'), (23, 'May'), (23, 'July'), (23, 'August'), (23, 'October'), (23, 'December'), (24, 'January'), (24, 'March'), (24, 'May'), (24, 'July'), (24, 'August'), (24, 'October'), (24, 'December'), (25, 'January'), (25, 'March'), (25, 'May'), (25, 'July'), (25, 'August'), (25, 'October'), (25, 'December'), (26, 'January'), (26, 'March'), (26, 'May'), (26, 'July'), (26, 'August'), (26, 'October'), (26, 'December'), (27, 'January'), (27, 'March'), (27, 'May'), (27, 'July'), (27, 'August'), (27, 'October'), (27, 'December'), (28, 'January'), (28, 'March'), (28, 'May'), (28, 'July'), (28, 'August'), (28, 'October'), (28, 'December'), (29, 'January'), (29, 'March'), (29, 'May'), (29, 'July'), (29, 'August'), (29, 'October'), (29, 'December'), (30, 'January'), (30, 'March'), (30, 'May'), (30, 'July'), (30, 'August'), (30, 'October'), (30, 'December'), (31, 'January'), (31, 'March'), (31, 'May'), (31, 'July'), (31, 'August'), (31, 'October'), (31, 'December')]\n"
     ]
    }
   ],
   "source": [
    "from itertools import product\n",
    "\n",
    "# Liste des mois avec 31 jours\n",
    "mois_avec_31_jours = ['January', 'March', 'May', 'July', 'August', 'October', 'December']\n",
    "\n",
    "# Utiliser la fonction product pour générer tous les tuples (nombre, mois)\n",
    "liste_de_tuples = list(product(range(1, 32), mois_avec_31_jours))\n",
    "\n",
    "# Afficher la liste résultante\n",
    "print(liste_de_tuples)\n"
   ]
  },
  {
   "cell_type": "markdown",
   "metadata": {},
   "source": [
    "### Compréhesnion List sans intertools.product"
   ]
  },
  {
   "cell_type": "code",
   "execution_count": 1,
   "metadata": {},
   "outputs": [
    {
     "name": "stdout",
     "output_type": "stream",
     "text": [
      "[(1, 'January'), (2, 'January'), (3, 'January'), (4, 'January'), (5, 'January'), (6, 'January'), (7, 'January'), (8, 'January'), (9, 'January'), (10, 'January'), (11, 'January'), (12, 'January'), (13, 'January'), (14, 'January'), (15, 'January'), (16, 'January'), (17, 'January'), (18, 'January'), (19, 'January'), (20, 'January'), (21, 'January'), (22, 'January'), (23, 'January'), (24, 'January'), (25, 'January'), (26, 'January'), (27, 'January'), (28, 'January'), (29, 'January'), (30, 'January'), (31, 'January'), (1, 'March'), (2, 'March'), (3, 'March'), (4, 'March'), (5, 'March'), (6, 'March'), (7, 'March'), (8, 'March'), (9, 'March'), (10, 'March'), (11, 'March'), (12, 'March'), (13, 'March'), (14, 'March'), (15, 'March'), (16, 'March'), (17, 'March'), (18, 'March'), (19, 'March'), (20, 'March'), (21, 'March'), (22, 'March'), (23, 'March'), (24, 'March'), (25, 'March'), (26, 'March'), (27, 'March'), (28, 'March'), (29, 'March'), (30, 'March'), (31, 'March'), (1, 'May'), (2, 'May'), (3, 'May'), (4, 'May'), (5, 'May'), (6, 'May'), (7, 'May'), (8, 'May'), (9, 'May'), (10, 'May'), (11, 'May'), (12, 'May'), (13, 'May'), (14, 'May'), (15, 'May'), (16, 'May'), (17, 'May'), (18, 'May'), (19, 'May'), (20, 'May'), (21, 'May'), (22, 'May'), (23, 'May'), (24, 'May'), (25, 'May'), (26, 'May'), (27, 'May'), (28, 'May'), (29, 'May'), (30, 'May'), (31, 'May'), (1, 'July'), (2, 'July'), (3, 'July'), (4, 'July'), (5, 'July'), (6, 'July'), (7, 'July'), (8, 'July'), (9, 'July'), (10, 'July'), (11, 'July'), (12, 'July'), (13, 'July'), (14, 'July'), (15, 'July'), (16, 'July'), (17, 'July'), (18, 'July'), (19, 'July'), (20, 'July'), (21, 'July'), (22, 'July'), (23, 'July'), (24, 'July'), (25, 'July'), (26, 'July'), (27, 'July'), (28, 'July'), (29, 'July'), (30, 'July'), (31, 'July'), (1, 'August'), (2, 'August'), (3, 'August'), (4, 'August'), (5, 'August'), (6, 'August'), (7, 'August'), (8, 'August'), (9, 'August'), (10, 'August'), (11, 'August'), (12, 'August'), (13, 'August'), (14, 'August'), (15, 'August'), (16, 'August'), (17, 'August'), (18, 'August'), (19, 'August'), (20, 'August'), (21, 'August'), (22, 'August'), (23, 'August'), (24, 'August'), (25, 'August'), (26, 'August'), (27, 'August'), (28, 'August'), (29, 'August'), (30, 'August'), (31, 'August'), (1, 'October'), (2, 'October'), (3, 'October'), (4, 'October'), (5, 'October'), (6, 'October'), (7, 'October'), (8, 'October'), (9, 'October'), (10, 'October'), (11, 'October'), (12, 'October'), (13, 'October'), (14, 'October'), (15, 'October'), (16, 'October'), (17, 'October'), (18, 'October'), (19, 'October'), (20, 'October'), (21, 'October'), (22, 'October'), (23, 'October'), (24, 'October'), (25, 'October'), (26, 'October'), (27, 'October'), (28, 'October'), (29, 'October'), (30, 'October'), (31, 'October'), (1, 'December'), (2, 'December'), (3, 'December'), (4, 'December'), (5, 'December'), (6, 'December'), (7, 'December'), (8, 'December'), (9, 'December'), (10, 'December'), (11, 'December'), (12, 'December'), (13, 'December'), (14, 'December'), (15, 'December'), (16, 'December'), (17, 'December'), (18, 'December'), (19, 'December'), (20, 'December'), (21, 'December'), (22, 'December'), (23, 'December'), (24, 'December'), (25, 'December'), (26, 'December'), (27, 'December'), (28, 'December'), (29, 'December'), (30, 'December'), (31, 'December')]\n"
     ]
    }
   ],
   "source": [
    "# Liste des mois avec 31 jours\n",
    "mois_avec_31_jours = ['January', 'March', 'May', 'July', 'August', 'October', 'December']\n",
    "\n",
    "# Utiliser une compréhension de liste pour générer tous les tuples (nombre, mois)\n",
    "liste_de_tuples = [(nombre, mois) for mois in mois_avec_31_jours for nombre in range(1, 32)]\n",
    "\n",
    "# Afficher la liste résultante\n",
    "print(liste_de_tuples)\n"
   ]
  }
 ],
 "metadata": {
  "kernelspec": {
   "display_name": "Python 3.10.5 64-bit",
   "language": "python",
   "name": "python3"
  },
  "language_info": {
   "codemirror_mode": {
    "name": "ipython",
    "version": 3
   },
   "file_extension": ".py",
   "mimetype": "text/x-python",
   "name": "python",
   "nbconvert_exporter": "python",
   "pygments_lexer": "ipython3",
   "version": "3.12.1"
  },
  "vscode": {
   "interpreter": {
    "hash": "978cbc386ed05effeb3d4ddae2ec8e964a1df925c0fd2ef4770302988156a95d"
   }
  }
 },
 "nbformat": 4,
 "nbformat_minor": 4
}
