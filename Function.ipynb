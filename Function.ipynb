{
 "cells": [
  {
   "cell_type": "markdown",
   "metadata": {},
   "source": [
    "## Function"
   ]
  },
  {
   "cell_type": "markdown",
   "metadata": {},
   "source": [
    "Create a function which will generate a calendar.\n",
    "\n",
    "The parameter have to be a Year, the out a Dictionnary with the following keys.\n",
    "\n",
    "The expected result is : {'day': [1, 2...], 'month': ['January', 'January'...'December'], 'year': [2020, 2020..], 'elapsed_time': [0.003, ...100]}"
   ]
  },
  {
   "cell_type": "markdown",
   "metadata": {},
   "source": [
    "##### Créer une fonction qui génère un calendrier pour une année donnée et retourne un dictionnaire avec les clés suivantes : 'day', 'month', 'year', 'elapsed_time'. "
   ]
  },
  {
   "cell_type": "code",
   "execution_count": 3,
   "metadata": {},
   "outputs": [
    {
     "name": "stdout",
     "output_type": "stream",
     "text": [
      "{'day': [1, 2, 3, 4, 5, 6, 7, 8, 9, 10, 11, 12, 13, 14, 15, 16, 17, 18, 19, 20, 21, 22, 23, 24, 25, 26, 27, 28, 29, 30, 31, 1, 2, 3, 4, 5, 6, 7, 8, 9, 10, 11, 12, 13, 14, 15, 16, 17, 18, 19, 20, 21, 22, 23, 24, 25, 26, 27, 28, 29, 1, 2, 3, 4, 5, 6, 7, 8, 9, 10, 11, 12, 13, 14, 15, 16, 17, 18, 19, 20, 21, 22, 23, 24, 25, 26, 27, 28, 29, 30, 31], 'month': ['', '', '', '', '', '', '', '', '', '', '', '', '', '', '', '', '', '', '', '', '', '', '', '', '', '', '', '', '', '', '', '', '', '', '', '', '', '', '', '', '', '', '', '', '', '', '', '', '', '', '', '', '', '', '', '', '', '', '', '', '', '', '', '', '', '', '', '', '', '', '', '', '', '', '', '', '', '', '', '', '', '', '', '', '', '', '', '', '', '', ''], 'year': [2020, 2020, 2020, 2020, 2020, 2020, 2020, 2020, 2020, 2020, 2020, 2020, 2020, 2020, 2020, 2020, 2020, 2020, 2020, 2020, 2020, 2020, 2020, 2020, 2020, 2020, 2020, 2020, 2020, 2020, 2020, 2020, 2020, 2020, 2020, 2020, 2020, 2020, 2020, 2020, 2020, 2020, 2020, 2020, 2020, 2020, 2020, 2020, 2020, 2020, 2020, 2020, 2020, 2020, 2020, 2020, 2020, 2020, 2020, 2020, 2020, 2020, 2020, 2020, 2020, 2020, 2020, 2020, 2020, 2020, 2020, 2020, 2020, 2020, 2020, 2020, 2020, 2020, 2020, 2020, 2020, 2020, 2020, 2020, 2020, 2020, 2020, 2020, 2020, 2020, 2020], 'elapsed_time': [0.011, 0.022, 0.033, 0.044, 0.055, 0.066, 0.077, 0.088, 0.099, 0.11, 0.121, 0.132, 0.143, 0.154, 0.165, 0.176, 0.187, 0.198, 0.209, 0.22, 0.231, 0.242, 0.253, 0.264, 0.275, 0.286, 0.297, 0.308, 0.319, 0.33, 0.341, 0.352, 0.363, 0.374, 0.385, 0.396, 0.407, 0.418, 0.429, 0.44, 0.451, 0.462, 0.473, 0.484, 0.495, 0.505, 0.516, 0.527, 0.538, 0.549, 0.56, 0.571, 0.582, 0.593, 0.604, 0.615, 0.626, 0.637, 0.648, 0.659, 0.67, 0.681, 0.692, 0.703, 0.714, 0.725, 0.736, 0.747, 0.758, 0.769, 0.78, 0.791, 0.802, 0.813, 0.824, 0.835, 0.846, 0.857, 0.868, 0.879, 0.89, 0.901, 0.912, 0.923, 0.934, 0.945, 0.956, 0.967, 0.978, 0.989, 1.0]}\n"
     ]
    }
   ],
   "source": [
    "def generate_calendar(year):\n",
    "    # Récupérer le calendrier pour l'année donnée\n",
    "    cal = calendar.TextCalendar()\n",
    "    year_calendar = cal.yeardayscalendar(year)\n",
    "\n",
    "    # Utiliser des compréhensions de liste pour remplir les listes\n",
    "    days = [day for month in year_calendar[0] for week in month for day in week if day != 0]\n",
    "    months = [calendar.month_name[month[0][1]] for month in year_calendar[0] for week in month for day in week if day != 0]\n",
    "    years = [year for month in year_calendar[0] for week in month for day in week if day != 0]\n",
    "    elapsed_time = [round(jour / len(days), 3) for jour in range(1, len(days) + 1)]\n",
    "\n",
    "    # Créer le dictionnaire résultant\n",
    "    result_dict = {\n",
    "        'day': days,\n",
    "        'month': months,\n",
    "        'year': years,\n",
    "        'elapsed_time': elapsed_time\n",
    "    }\n",
    "\n",
    "    return result_dict\n",
    "\n",
    "# Saisie de l'année depuis l'utilisateur\n",
    "user_year = int(input(\"Entrez l'année du calendrier souhaitée : \"))\n",
    "\n",
    "# Génération du calendrier pour l'année saisie\n",
    "result = generate_calendar(user_year)\n",
    "\n",
    "print(result)\n"
   ]
  },
  {
   "cell_type": "markdown",
   "metadata": {},
   "source": [
    "Why are we using functions ?"
   ]
  },
  {
   "cell_type": "markdown",
   "metadata": {},
   "source": [
    "##### Pourquoi utilisons-nous des fonctions ?"
   ]
  },
  {
   "cell_type": "markdown",
   "metadata": {},
   "source": [
    "### Les bénéfices d'une fonctions\n",
    "\n",
    "- Réutilisabilité :<br>\n",
    "J'automatise la génération d'un calendrier pour n'importe quelle année en appelant simplement la fonction avec l'année souhaitée en tant qu'argument. Cela rend le code plus flexible et réutilisable.\n",
    "\n",
    "- Modularité :<br>\n",
    "En encapsulant la logique de génération du calendrier dans une fonction, votre code est maintenant plus modulaire.<br>\n",
    "Si Je peux apporter des modifications spécifiques à la génération du calendrier, je peux le faire dans la fonction sans toucher au reste du code.\n",
    "\n",
    "- Clarté :<br>\n",
    "L'utilisation de fonctions peut améliorer la clarté du code en le divisant en sections logiques.<br>\n",
    "Chaque fonction accomplit une tâche spécifique, ce qui facilite la compréhension du code, sa maintenance et son évolution."
   ]
  }
 ],
 "metadata": {
  "kernelspec": {
   "display_name": "Python 3.8.10 64-bit (microsoft store)",
   "language": "python",
   "name": "python3"
  },
  "language_info": {
   "codemirror_mode": {
    "name": "ipython",
    "version": 3
   },
   "file_extension": ".py",
   "mimetype": "text/x-python",
   "name": "python",
   "nbconvert_exporter": "python",
   "pygments_lexer": "ipython3",
   "version": "3.12.1"
  },
  "vscode": {
   "interpreter": {
    "hash": "825c94aeb3011909476e5128882419f0b73939d2857b9ad1548e06fb43618312"
   }
  }
 },
 "nbformat": 4,
 "nbformat_minor": 4
}
